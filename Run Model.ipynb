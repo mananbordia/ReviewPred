{
 "cells": [
  {
   "cell_type": "code",
   "execution_count": 10,
   "metadata": {},
   "outputs": [],
   "source": [
    "import pickle\n",
    "with open(\"model/Electronic_Feedback.pkl\",'rb') as f:\n",
    "        load_clf = pickle.load(f)\n",
    "with open(\"model/Test_Cases.pkl\",'rb') as f:\n",
    "    load_cases = pickle.load(f)"
   ]
  },
  {
   "cell_type": "code",
   "execution_count": 15,
   "metadata": {
    "scrolled": true
   },
   "outputs": [
    {
     "name": "stdout",
     "output_type": "stream",
     "text": [
      "['NEGATIVE']\n",
      "NEGATIVE\n"
     ]
    }
   ],
   "source": [
    "# [i][j] i=0 for comment and i=1 for real sentiment \n",
    "print(load_clf.predict(load_cases[0][0]))\n",
    "print(load_cases[1][0])"
   ]
  },
  {
   "cell_type": "code",
   "execution_count": null,
   "metadata": {},
   "outputs": [],
   "source": []
  }
 ],
 "metadata": {
  "kernelspec": {
   "display_name": "Python 3",
   "language": "python",
   "name": "python3"
  },
  "language_info": {
   "codemirror_mode": {
    "name": "ipython",
    "version": 3
   },
   "file_extension": ".py",
   "mimetype": "text/x-python",
   "name": "python",
   "nbconvert_exporter": "python",
   "pygments_lexer": "ipython3",
   "version": "3.7.4"
  }
 },
 "nbformat": 4,
 "nbformat_minor": 2
}
