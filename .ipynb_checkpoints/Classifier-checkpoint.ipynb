{
 "cells": [
  {
   "cell_type": "code",
   "execution_count": 1,
   "metadata": {},
   "outputs": [],
   "source": [
    "class Sentiment :\n",
    "    NEUTRAL = \"NEUTRAL\"\n",
    "    NEGATIVE = \"NEGATIVE\"\n",
    "    POSITIVE  = \"POSITIVE\""
   ]
  },
  {
   "cell_type": "code",
   "execution_count": 2,
   "metadata": {},
   "outputs": [],
   "source": [
    "import random\n",
    "class Feedback:\n",
    "    def __init__(self,comment,rating):\n",
    "        self.comment = comment\n",
    "        self.rating = rating\n",
    "        self.sentiment = self.get_sentiment()\n",
    "    \n",
    "    def get_sentiment(self):\n",
    "        if self.rating <= 2 :\n",
    "            return Sentiment.NEGATIVE\n",
    "        elif self.rating == 3 :\n",
    "            return Sentiment.NEUTRAL\n",
    "        else :\n",
    "            return Sentiment.POSITIVE\n",
    "#     Container for Data Set\n",
    "class Feedback_Container :\n",
    "    def __init__(self,feedbacks):\n",
    "        self.feedbacks = feedbacks\n",
    "        \n",
    "    def evenly_distribute(self):\n",
    "        negative = list(filter(lambda x : x.sentiment == 'NEGATIVE',self.feedbacks))\n",
    "        positive = list(filter(lambda x : x.sentiment == 'POSITIVE',self.feedbacks))\n",
    "        \n",
    "        positive_shrunken = positive[:len(negative)]\n",
    "        self.feedbacks = negative + positive_shrunken\n",
    "        random.shuffle(self.feedbacks)\n",
    "        return self.feedbacks \n",
    "    \n"
   ]
  },
  {
   "cell_type": "markdown",
   "metadata": {},
   "source": [
    "# Importing Important data from Training DataSet"
   ]
  },
  {
   "cell_type": "code",
   "execution_count": 3,
   "metadata": {},
   "outputs": [
    {
     "name": "stdout",
     "output_type": "stream",
     "text": [
      "3.0\n",
      "NEUTRAL\n",
      "These make using the home button easy. My daughter and I both like them.  I would purchase them again. Well worth the price.\n",
      "20000\n"
     ]
    }
   ],
   "source": [
    "import numpy as np\n",
    "import json\n",
    "file_name = 'Phones.json'\n",
    "feedbacks = []\n",
    "i=1\n",
    "with open(file_name) as f:\n",
    "    for line in f:\n",
    "        feedback = json.loads(line)\n",
    "        feedbacks.append(Feedback(feedback['reviewText'],feedback['overall']))\n",
    "        if(i==20000):\n",
    "            break;\n",
    "        i+=1\n",
    "print(feedbacks[5].rating)\n",
    "print(feedbacks[5].sentiment)\n",
    "print(feedbacks[5].comment)\n",
    "print(len(feedbacks))"
   ]
  },
  {
   "cell_type": "markdown",
   "metadata": {},
   "source": [
    "# Creating Training DataSet "
   ]
  },
  {
   "cell_type": "code",
   "execution_count": 4,
   "metadata": {
    "scrolled": true
   },
   "outputs": [],
   "source": [
    "len(feedbacks)\n",
    "from sklearn.model_selection import train_test_split\n",
    "\n",
    "training , test = train_test_split(feedbacks, train_size = 0.5, random_state = 40)\n",
    "\n",
    "c  = Feedback_Container(training)\n",
    "training = c.evenly_distribute()\n",
    "\n",
    "d = Feedback_Container(test)\n",
    "test = d.evenly_distribute()\n",
    "\n",
    "\n",
    "# print(training[0].comment)\n",
    "# print(training[0].sentiment)\n",
    "# print(len(training))"
   ]
  },
  {
   "cell_type": "markdown",
   "metadata": {},
   "source": [
    "Vectorizing Training and Test DataSets "
   ]
  },
  {
   "cell_type": "code",
   "execution_count": 11,
   "metadata": {
    "scrolled": true
   },
   "outputs": [
    {
     "name": "stdout",
     "output_type": "stream",
     "text": [
      "3342\n"
     ]
    }
   ],
   "source": [
    "# x -> comment, y-> sentiments\n",
    "train_x = [x.comment for x in training]\n",
    "train_y = [x.sentiment for x in training]\n",
    "\n",
    "test_x = [x.comment for x in test]\n",
    "test_y = [x.sentiment for x in test]\n",
    "# print(test_y)\n",
    "print(len(test_y))\n",
    "\n",
    "# test_x[10]\n",
    "# print((test_x[test_y=='NEGATIVE'],test_y[test_y=='NEGATIVE']))"
   ]
  },
  {
   "cell_type": "markdown",
   "metadata": {},
   "source": [
    "### Bag Of Words Vectorization"
   ]
  },
  {
   "cell_type": "code",
   "execution_count": 12,
   "metadata": {},
   "outputs": [],
   "source": [
    "from sklearn.feature_extraction.text import TfidfVectorizer\n",
    "vectorizer = TfidfVectorizer()\n",
    "train_x_vectors = vectorizer.fit_transform(train_x)\n",
    "test_x_vectors = vectorizer.transform(test_x)"
   ]
  },
  {
   "cell_type": "markdown",
   "metadata": {},
   "source": [
    "# Classification"
   ]
  },
  {
   "cell_type": "markdown",
   "metadata": {},
   "source": [
    "### Linear SVM (Support Vector Machine)"
   ]
  },
  {
   "cell_type": "code",
   "execution_count": 13,
   "metadata": {},
   "outputs": [
    {
     "name": "stdout",
     "output_type": "stream",
     "text": [
      "Purchased from Eforcity, US seller that I've gotten a few items from before and quality was good for the price.  Not this case.  Item is the proper fit, and fits bumper cases or special cases that would only accept an Apple headphone jack (ie thin).But, at first, I was getting audio from just one channel - Jiggling a bit the cable at the base of the male end, 2nd channel started working but was getting static noise by just moving the cable.Audio would then come and go, by briefly moving the cable.Filed claim for damaged item.  Seems to me a $1.70 down the drain.\n"
     ]
    }
   ],
   "source": [
    "from sklearn import svm\n",
    "svm_clf = svm.SVC(kernel = 'linear')\n",
    "svm_clf.fit(train_x_vectors,train_y)\n",
    "print(test_x[0])\n",
    "\n",
    "# print(test_x[0])"
   ]
  },
  {
   "cell_type": "code",
   "execution_count": 30,
   "metadata": {},
   "outputs": [
    {
     "name": "stdout",
     "output_type": "stream",
     "text": [
      "Predicted Value = ['POSITIVE']\n"
     ]
    }
   ],
   "source": [
    "inp = [\"\"]\n",
    "inp_vector = vectorizer.transform(inp)\n",
    "print(\"Predicted Value =\", svm_clf.predict(inp_vector))"
   ]
  },
  {
   "cell_type": "markdown",
   "metadata": {},
   "source": [
    "#### Predicting"
   ]
  },
  {
   "cell_type": "code",
   "execution_count": 15,
   "metadata": {},
   "outputs": [
    {
     "name": "stdout",
     "output_type": "stream",
     "text": [
      "['NEGATIVE' 'NEGATIVE' 'NEGATIVE' ... 'NEGATIVE' 'NEGATIVE' 'POSITIVE']\n",
      "NEGATIVE\n"
     ]
    }
   ],
   "source": [
    "svm_pred = svm_clf.predict(test_x_vectors)\n",
    "print(svm_pred)\n",
    "print(test_y[0])"
   ]
  },
  {
   "cell_type": "markdown",
   "metadata": {},
   "source": [
    "### Decision Tree"
   ]
  },
  {
   "cell_type": "markdown",
   "metadata": {},
   "source": [
    "#### Training"
   ]
  },
  {
   "cell_type": "code",
   "execution_count": 16,
   "metadata": {},
   "outputs": [
    {
     "data": {
      "text/plain": [
       "DecisionTreeClassifier(class_weight=None, criterion='gini', max_depth=None,\n",
       "                       max_features=None, max_leaf_nodes=None,\n",
       "                       min_impurity_decrease=0.0, min_impurity_split=None,\n",
       "                       min_samples_leaf=1, min_samples_split=2,\n",
       "                       min_weight_fraction_leaf=0.0, presort=False,\n",
       "                       random_state=0, splitter='best')"
      ]
     },
     "execution_count": 16,
     "metadata": {},
     "output_type": "execute_result"
    }
   ],
   "source": [
    "from sklearn.tree import DecisionTreeClassifier\n",
    "D_clf = DecisionTreeClassifier(random_state=0)\n",
    "D_clf.fit(train_x_vectors,train_y)"
   ]
  },
  {
   "cell_type": "markdown",
   "metadata": {},
   "source": [
    "#### Predicting"
   ]
  },
  {
   "cell_type": "code",
   "execution_count": 17,
   "metadata": {},
   "outputs": [
    {
     "name": "stdout",
     "output_type": "stream",
     "text": [
      "['NEGATIVE' 'POSITIVE' 'NEGATIVE' ... 'NEGATIVE' 'POSITIVE' 'POSITIVE']\n",
      "NEGATIVE\n"
     ]
    }
   ],
   "source": [
    "D_pred = D_clf.predict(test_x_vectors)\n",
    "print(D_pred)\n",
    "print(test_y[1])"
   ]
  },
  {
   "cell_type": "markdown",
   "metadata": {},
   "source": [
    "### Logistic Regression"
   ]
  },
  {
   "cell_type": "code",
   "execution_count": 18,
   "metadata": {},
   "outputs": [],
   "source": [
    "####"
   ]
  },
  {
   "cell_type": "code",
   "execution_count": 19,
   "metadata": {},
   "outputs": [],
   "source": [
    "# from sklearn.linear_model import LinearRegression\n",
    "# LR_clf = LinearRegression()\n",
    "# LR_clf.fit(train_x_vectors,train_y)"
   ]
  },
  {
   "cell_type": "code",
   "execution_count": 20,
   "metadata": {},
   "outputs": [],
   "source": [
    "####"
   ]
  },
  {
   "cell_type": "code",
   "execution_count": 21,
   "metadata": {},
   "outputs": [],
   "source": [
    "# print(LR_clf.predict(test_x_vectors[1]))\n",
    "# print(test_y[1])"
   ]
  },
  {
   "cell_type": "markdown",
   "metadata": {},
   "source": [
    "### Gausian Naive Bayes"
   ]
  },
  {
   "cell_type": "code",
   "execution_count": 22,
   "metadata": {},
   "outputs": [],
   "source": [
    "#### Training"
   ]
  },
  {
   "cell_type": "code",
   "execution_count": 23,
   "metadata": {},
   "outputs": [
    {
     "data": {
      "text/plain": [
       "GaussianNB(priors=None, var_smoothing=1e-09)"
      ]
     },
     "execution_count": 23,
     "metadata": {},
     "output_type": "execute_result"
    }
   ],
   "source": [
    "from sklearn.naive_bayes import GaussianNB\n",
    "GNB_clf = GaussianNB()\n",
    "GNB_clf.fit(train_x_vectors.toarray(),train_y)"
   ]
  },
  {
   "cell_type": "code",
   "execution_count": 24,
   "metadata": {},
   "outputs": [
    {
     "name": "stdout",
     "output_type": "stream",
     "text": [
      "['NEGATIVE' 'POSITIVE' 'NEGATIVE' ... 'NEGATIVE' 'POSITIVE' 'POSITIVE']\n",
      "NEGATIVE\n"
     ]
    }
   ],
   "source": [
    "#### Predicting\n",
    "GNB_pred = D_clf.predict(test_x_vectors.toarray())\n",
    "print(GNB_pred)\n",
    "print(test_y[1])"
   ]
  },
  {
   "cell_type": "markdown",
   "metadata": {},
   "source": [
    "## Evaluation"
   ]
  },
  {
   "cell_type": "code",
   "execution_count": 25,
   "metadata": {},
   "outputs": [
    {
     "name": "stdout",
     "output_type": "stream",
     "text": [
      "0.8512866546977857\n",
      "0.5981448234590065\n",
      "0.6741472172351886\n"
     ]
    }
   ],
   "source": [
    "print(svm_clf.score(test_x_vectors,test_y))\n",
    "print(GNB_clf.score(test_x_vectors.toarray(),test_y))\n",
    "print(D_clf.score(test_x_vectors,test_y))"
   ]
  },
  {
   "cell_type": "code",
   "execution_count": 26,
   "metadata": {},
   "outputs": [
    {
     "name": "stdout",
     "output_type": "stream",
     "text": [
      "[0.85186289 0.85070592]\n",
      "[0.66909754 0.67904509]\n",
      "[0.66909754 0.67904509]\n"
     ]
    }
   ],
   "source": [
    "from sklearn.metrics import f1_score\n",
    "print(f1_score(test_y,svm_pred,average = None,labels = [Sentiment.NEGATIVE, Sentiment.POSITIVE]))\n",
    "print(f1_score(test_y,GNB_pred,average = None,labels = [Sentiment.NEGATIVE, Sentiment.POSITIVE]))\n",
    "print(f1_score(test_y,D_pred,average = None,labels = [Sentiment.NEGATIVE, Sentiment.POSITIVE]))"
   ]
  },
  {
   "cell_type": "markdown",
   "metadata": {},
   "source": [
    "## TASK ACCOMPLISHED"
   ]
  },
  {
   "cell_type": "markdown",
   "metadata": {},
   "source": [
    "### SVM is best for this Problem"
   ]
  },
  {
   "cell_type": "markdown",
   "metadata": {},
   "source": [
    "### Saving Model"
   ]
  },
  {
   "cell_type": "code",
   "execution_count": 27,
   "metadata": {},
   "outputs": [],
   "source": [
    "import pickle\n",
    "with open(\"model/Electronic_Feedback.pkl\",'wb') as f:\n",
    "        pickle.dump(svm_clf,f)\n",
    "with open(\"model/Test_Cases.pkl\",'wb') as f:\n",
    "        pickle.dump([test_x_vectors,test_y],f)"
   ]
  },
  {
   "cell_type": "markdown",
   "metadata": {},
   "source": [
    "### Load Model"
   ]
  },
  {
   "cell_type": "code",
   "execution_count": 28,
   "metadata": {},
   "outputs": [],
   "source": [
    "with open(\"model/Electronic_Feedback.pkl\",'rb') as f:\n",
    "        load_clf = pickle.load(f)"
   ]
  },
  {
   "cell_type": "code",
   "execution_count": 29,
   "metadata": {},
   "outputs": [
    {
     "data": {
      "text/plain": [
       "array(['NEGATIVE'], dtype='<U8')"
      ]
     },
     "execution_count": 29,
     "metadata": {},
     "output_type": "execute_result"
    }
   ],
   "source": [
    "load_clf.predict(test_x_vectors[0])"
   ]
  },
  {
   "cell_type": "code",
   "execution_count": null,
   "metadata": {},
   "outputs": [],
   "source": []
  },
  {
   "cell_type": "code",
   "execution_count": null,
   "metadata": {},
   "outputs": [],
   "source": []
  },
  {
   "cell_type": "code",
   "execution_count": null,
   "metadata": {},
   "outputs": [],
   "source": []
  },
  {
   "cell_type": "code",
   "execution_count": null,
   "metadata": {},
   "outputs": [],
   "source": []
  },
  {
   "cell_type": "code",
   "execution_count": null,
   "metadata": {},
   "outputs": [],
   "source": []
  },
  {
   "cell_type": "code",
   "execution_count": null,
   "metadata": {},
   "outputs": [],
   "source": []
  },
  {
   "cell_type": "code",
   "execution_count": null,
   "metadata": {},
   "outputs": [],
   "source": []
  },
  {
   "cell_type": "code",
   "execution_count": null,
   "metadata": {},
   "outputs": [],
   "source": []
  },
  {
   "cell_type": "code",
   "execution_count": null,
   "metadata": {},
   "outputs": [],
   "source": []
  },
  {
   "cell_type": "code",
   "execution_count": null,
   "metadata": {},
   "outputs": [],
   "source": []
  }
 ],
 "metadata": {
  "kernelspec": {
   "display_name": "Python 3",
   "language": "python",
   "name": "python3"
  },
  "language_info": {
   "codemirror_mode": {
    "name": "ipython",
    "version": 3
   },
   "file_extension": ".py",
   "mimetype": "text/x-python",
   "name": "python",
   "nbconvert_exporter": "python",
   "pygments_lexer": "ipython3",
   "version": "3.7.4"
  }
 },
 "nbformat": 4,
 "nbformat_minor": 2
}
